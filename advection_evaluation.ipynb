{
 "cells": [
  {
   "cell_type": "code",
   "execution_count": 1,
   "id": "2c167c33-00e8-4897-af03-19e2a2e64758",
   "metadata": {},
   "outputs": [],
   "source": [
    "from lib.environments import AdvectionEnvironment\n",
    "from lib.models import AdvectionIRCNN\n",
    "from lib.models.wrappers import MarlModel\n",
    "from tianshou.utils.net.common import ActorCritic\n",
    "from lib.policy.ppo import MarlPPOPolicy\n",
    "from lib.distributions import ElementwiseNormal\n",
    "\n",
    "import torch\n",
    "import math\n",
    "import numpy as np\n",
    "from tqdm import tqdm\n",
    "from copy import deepcopy\n",
    "import pickle\n",
    "import os\n",
    "\n",
    "# Plotting settings\n",
    "import matplotlib.pyplot as plt\n",
    "import matplotlib.ticker as ticker\n",
    "FONT_SIZE = 16\n",
    "FIG_SIZE = (4, 3.5)\n",
    "plt.rcParams['figure.figsize'] = FIG_SIZE\n",
    "# Set global font size\n",
    "plt.rcParams['font.size'] = FONT_SIZE\n",
    "plt.rcParams['axes.labelsize'] = FONT_SIZE\n",
    "plt.rcParams['xtick.labelsize'] = FONT_SIZE\n",
    "plt.rcParams['ytick.labelsize'] = FONT_SIZE\n",
    "plt.rcParams['legend.fontsize'] = 12\n",
    "\n",
    "# This serves to assure Type 1 fonts\n",
    "plt.rcParams['text.usetex'] = False\n",
    "plt.rcParams['pdf.use14corefonts'] = True\n",
    "plt.rcParams['ps.useafm'] = True"
   ]
  },
  {
   "cell_type": "code",
   "execution_count": 2,
   "id": "1acfcabb-3102-48ac-85f2-186ddd1d6a9a",
   "metadata": {},
   "outputs": [
    {
     "name": "stderr",
     "output_type": "stream",
     "text": [
      "/Users/jan-philippvonbassewitz/opt/anaconda3/lib/python3.7/site-packages/ipykernel/ipkernel.py:287: DeprecationWarning: `should_run_async` will not call `transform_cell` automatically in the future. Please pass the result to `transformed_cell` argument and any exception that happen during thetransform in `preprocessing_exc_tuple` in IPython 7.17 and above.\n",
      "  and should_run_async(code)\n"
     ]
    }
   ],
   "source": [
    "def plot_n(ims, titles=None):   \n",
    "    fig, axes = plt.subplots(1, len(ims), figsize=(7, 5))\n",
    "    for i, (ax, im) in enumerate(zip(axes, ims)):\n",
    "        ax.imshow(im, vmin=-0, vmax=1, cmap='gray', interpolation=\"none\")\n",
    "        ax.axis(\"off\")\n",
    "        if titles:\n",
    "            ax.set_title(titles[i])\n",
    "    plt.show()\n",
    "        \n",
    "method_color = {\n",
    "    \"CGS\": \"red\",\n",
    "    \"ACGS\": \"orange\",\n",
    "    \"FGS\": \"green\",\n",
    "    \"CNN-MARL\": \"blue\"\n",
    "}"
   ]
  },
  {
   "cell_type": "code",
   "execution_count": 3,
   "id": "df065515-c259-4a26-bed5-8f020a544d1e",
   "metadata": {},
   "outputs": [],
   "source": [
    "class Collector:\n",
    "    def __init__(self, names):\n",
    "        self.values = {name: [] for name in names}\n",
    "\n",
    "    def add(self, name, value):\n",
    "        self.values[name].append(value)\n",
    "\n",
    "    def post_collection_processing(self):\n",
    "        for key, value in self.values.items():\n",
    "            self.values[key] = np.array(self.values[key])\n",
    "\n",
    "    def __call__(self, name):\n",
    "        return self.values[name]\n",
    "\n",
    "    def __repr__(self):\n",
    "        self.post_collection_processing()\n",
    "        description = \"Collector( \\n\"\n",
    "        for key, value in self.values.items():\n",
    "            description += f\"{key}: {value.shape}, \\n\"\n",
    "        description += \")\"\n",
    "        return description\n",
    "\n",
    "    def load_collection(self, col):\n",
    "        for key, value in col.values.items():\n",
    "            self.add(key, value)\n",
    "\n",
    "def plot_collection(ks, col, label, color, log=False):\n",
    "    plt.plot(ks, col.mean(axis=0), label=label, color=color)\n",
    "    plt.fill_between(ks,\n",
    "                     col.mean(axis=0) - col.std(axis=0),\n",
    "                     col.mean(axis=0) + col.std(axis=0),\n",
    "                     color=color, alpha=0.1)\n",
    "    if log:\n",
    "        plt.yscale('log')\n",
    "\n",
    "def plot_collection_individuals(ks, col, label, color, log=False, mode=\"mean\", alpha=.1):\n",
    "    if mode == \"median\":\n",
    "        plt.plot(ks, np.median(col, axis=0), label=label, color=color)\n",
    "    elif mode == \"mean\":\n",
    "        plt.plot(ks, np.mean(col, axis=0), label=label, color=color)\n",
    "        \n",
    "    for run in col:\n",
    "        plt.plot(ks, run, color=color, alpha=alpha)\n",
    "    if log:\n",
    "        plt.yscale('log')\n",
    "\n",
    "def save_col(_col, path):\n",
    "    print(f\"Saved Collection to {_path}\")\n",
    "    with open(path, 'wb') as f:\n",
    "        pickle.dump(_col, f)\n",
    "\n",
    "def load_col(path):\n",
    "    print(f\"Loaded Collection from {path}\")\n",
    "    with open(path, 'rb') as f:\n",
    "        loaded_data = pickle.load(f)\n",
    "        return loaded_data"
   ]
  },
  {
   "cell_type": "code",
   "execution_count": 5,
   "id": "c7f00901-ce2f-40b2-b72b-5f3e1ed0cc4f",
   "metadata": {},
   "outputs": [],
   "source": [
    "DEVICE = \"cpu\" #\"cuda:0\"\n",
    "backbone = AdvectionIRCNN()\n",
    "actor = MarlModel(backbone=backbone, _is=\"actor\").to(DEVICE)\n",
    "critic = MarlModel(backbone=backbone, _is=\"critic\").to(DEVICE)\n",
    "actor_critic = ActorCritic(actor, critic)"
   ]
  },
  {
   "cell_type": "code",
   "execution_count": 6,
   "id": "91f9fbe8-ba56-4d6d-80ea-cd4babbe77bb",
   "metadata": {},
   "outputs": [],
   "source": [
    "EPOCH = 1499  # Load EPOCH=1499 for best model\n",
    "POLICY_READ_PATH = f'./weights/policy_launch_platform/mnist_train_ppo_IRCNN_eplen:4_seed:0_subsample:4_discount:0.95_growing_ep_len_maxed/policy_ep{EPOCH}.pt'"
   ]
  },
  {
   "cell_type": "code",
   "execution_count": 7,
   "id": "c485c0dd-da9b-4270-9041-8088b09818c4",
   "metadata": {},
   "outputs": [
    {
     "name": "stdout",
     "output_type": "stream",
     "text": [
      "Built model\n"
     ]
    }
   ],
   "source": [
    "dist = ElementwiseNormal\n",
    "ElementwiseNormal.marl = True\n",
    "policy = MarlPPOPolicy(actor=actor_critic.actor,\n",
    "             critic=actor_critic.critic,\n",
    "              dist_fn=dist,\n",
    "              optim=None,\n",
    "             ent_coef=0.05)\n",
    "policy.load_state_dict(torch.load(POLICY_READ_PATH, map_location=torch.device(DEVICE)))\n",
    "print(\"Built model\")"
   ]
  },
  {
   "cell_type": "code",
   "execution_count": 8,
   "id": "d9bb11b1-2abd-4f2b-8054-4e8ff49e7113",
   "metadata": {},
   "outputs": [
    {
     "name": "stderr",
     "output_type": "stream",
     "text": [
      "/Users/jan-philippvonbassewitz/opt/anaconda3/lib/python3.7/site-packages/ipykernel/ipkernel.py:287: DeprecationWarning: `should_run_async` will not call `transform_cell` automatically in the future. Please pass the result to `transformed_cell` argument and any exception that happen during thetransform in `preprocessing_exc_tuple` in IPython 7.17 and above.\n",
      "  and should_run_async(code)\n"
     ]
    }
   ],
   "source": [
    "DATA_SET_NAME = \"mnist\"\n",
    "VEL_FIELD_TYPE = \"train\"\n",
    "\n",
    "FIG_PATH = f'results_dump/figures/advection/'\n",
    "SAVE_PATH = f'results_dump/data/advection/'\n",
    "LOAD_PATH = f'results/data/advection/'\n",
    "\n",
    "os.makedirs(os.path.dirname(FIG_PATH), exist_ok=True)\n",
    "os.makedirs(os.path.dirname(SAVE_PATH), exist_ok=True)\n",
    "\n",
    "env = AdvectionEnvironment(\n",
    "    ep_len=10,\n",
    "    train=False,\n",
    "    img_size=64,\n",
    "    dataset_name=DATA_SET_NAME,\n",
    "    velocity_field_type=VEL_FIELD_TYPE\n",
    ")"
   ]
  },
  {
   "cell_type": "markdown",
   "id": "085c482d-2261-427d-82d4-b6ca83172044",
   "metadata": {},
   "source": [
    "# Simulation"
   ]
  },
  {
   "cell_type": "code",
   "execution_count": 47,
   "id": "d641f1fa-c853-4367-9fa9-58f77e84bbcb",
   "metadata": {},
   "outputs": [
    {
     "name": "stderr",
     "output_type": "stream",
     "text": [
      "<>:25: DeprecationWarning: invalid escape sequence \\w\n"
     ]
    }
   ],
   "source": [
    "def get_action(actor, deterministic, obs):\n",
    "    if deterministic:\n",
    "        act_mean = actor.get_action_mean(obs).detach().squeeze().cpu().numpy()\n",
    "    else:\n",
    "        act_mean = actor.sample_action(obs).detach().squeeze().cpu().numpy()\n",
    "    return act_mean\n",
    "\n",
    "\n",
    "def run_simulation(num_steps=100, do_plot=False, deterministic=True):\n",
    "    _obs, _ = env.reset()\n",
    "    no_rl = deepcopy(env.state)\n",
    "    no_rl_gt = deepcopy(env.state)\n",
    "    for i in range(num_steps):\n",
    "\n",
    "        act_mean = get_action(actor, deterministic, _obs)\n",
    "\n",
    "        _obs, _, _, _, _ = env.step(np.expand_dims(act_mean, axis=0))\n",
    "    \n",
    "        no_rl = env.upwind_scheme_2d_step(no_rl, env.dt, env.dx, env.dy, env.c_x, env.c_y)\n",
    "        no_rl_gt = env.rk4_step(no_rl_gt, env.dt, env.dx, env.dy, env.c_x, env.c_y, space_disc=\"second_order_upwind\")\n",
    "\n",
    "        # Plot state every 50 steps\n",
    "        if i % 50 == 0 and do_plot:\n",
    "            print(f\"Num CGS steps: {i}\")\n",
    "            base = \"$\\widetilde{\\psi}^{\" + str(i) + \"}\"\n",
    "            plot_n([no_rl, env.state, env.gt_state[::env.subsample, ::env.subsample]],\n",
    "                       titles=[\"CGS\", \"CNN-MARL\", \"FGS\"] if i == 0 else None)\n",
    "\n",
    "    gt = env.gt_state[::env.subsample, ::env.subsample]\n",
    "    if do_plot:\n",
    "        plot_n([no_rl, env.state, env.gt_state[::env.subsample, ::env.subsample]])\n",
    "    return gt, env.state, no_rl, no_rl_gt, act_mean"
   ]
  },
  {
   "cell_type": "markdown",
   "id": "68ed6d91-6373-49b1-9460-2615bbba0b5e",
   "metadata": {},
   "source": [
    "## Qualitative Results"
   ]
  },
  {
   "cell_type": "code",
   "execution_count": 10,
   "id": "b443f00f-b7de-44a8-992a-dd6ade699779",
   "metadata": {},
   "outputs": [
    {
     "name": "stdout",
     "output_type": "stream",
     "text": [
      "Num CGS steps: 0\n"
     ]
    },
    {
     "data": {
      "image/png": "[encoded data removed]",
      "text/plain": [
       "<Figure size 504x360 with 3 Axes>"
      ]
     },
     "metadata": {
      "needs_background": "light"
     },
     "output_type": "display_data"
    },
    {
     "data": {
      "image/png": "[encoded data removed]",
      "text/plain": [
       "<Figure size 504x360 with 3 Axes>"
      ]
     },
     "metadata": {
      "needs_background": "light"
     },
     "output_type": "display_data"
    }
   ],
   "source": [
    "_ = run_simulation(10, do_plot=True)"
   ]
  },
  {
   "cell_type": "markdown",
   "id": "3e4219c6-bb2d-4247-b309-7326dff82609",
   "metadata": {},
   "source": [
    "## Multiple Simulations for Quantitative Results"
   ]
  },
  {
   "cell_type": "code",
   "execution_count": 65,
   "id": "2fad6b12-0e70-47c2-add5-122ef267fe4a",
   "metadata": {},
   "outputs": [
    {
     "name": "stderr",
     "output_type": "stream",
     "text": [
      "/Users/jan-philippvonbassewitz/opt/anaconda3/lib/python3.7/site-packages/ipykernel/ipkernel.py:287: DeprecationWarning: `should_run_async` will not call `transform_cell` automatically in the future. Please pass the result to `transformed_cell` argument and any exception that happen during thetransform in `preprocessing_exc_tuple` in IPython 7.17 and above.\n",
      "  and should_run_async(code)\n",
      "100%|██████████| 10/10 [00:40<00:00,  4.04s/it]\n"
     ]
    }
   ],
   "source": [
    "NUM_SIMS = 10\n",
    "NUM_STEPS = 50\n",
    "\n",
    "col = Collector([\"s_no_rl\",  \"s_rl\", \"s_no_rl_gt\", \"s_gt\", \n",
    "                 \"mass_rl\", \"mass_no_rl\", \"mass_no_rl_gt\",\n",
    "                 \"act\" ])\n",
    "\n",
    "for sim in tqdm(range(NUM_SIMS)):\n",
    "    # run simulation and collect end states\n",
    "    gt, rl, no_rl, no_rl_gt, act_mean = run_simulation(NUM_STEPS)\n",
    "    col.add(\"s_gt\", gt)\n",
    "    col.add(\"s_rl\", rl)\n",
    "    col.add(\"s_no_rl\", no_rl)    \n",
    "    col.add(\"s_no_rl_gt\", no_rl_gt)\n",
    "    col.add(\"act\", act_mean)\n",
    "\n",
    "    # Compute energy spectra and collect them\n",
    "    mass_rl_err = (np.abs(env.compute_total_mass(rl) - env.initial_mass)) / env.initial_mass\n",
    "    mass_no_rl_err = (np.abs(env.compute_total_mass(no_rl) - env.initial_mass)) / env.initial_mass\n",
    "    mass_no_rl_gt_err = (np.abs(env.compute_total_mass(no_rl_gt) - env.initial_mass)) / env.initial_mass\n",
    "    col.add(\"mass_rl\", mass_rl_err)\n",
    "    col.add(\"mass_no_rl\", mass_no_rl_err)\n",
    "    col.add(\"mass_no_rl_gt\", mass_no_rl_gt_err)\n",
    "\n",
    "\n",
    "# convert to np arrays\n",
    "col.post_collection_processing()\n"
   ]
  },
  {
   "cell_type": "code",
   "execution_count": 17,
   "id": "1aee63a2-1be1-4b3f-a7f6-9ad03447b1dd",
   "metadata": {},
   "outputs": [
    {
     "name": "stdout",
     "output_type": "stream",
     "text": [
      "Saved Collection to results_dump/data/advection/50steps_mnist_train_end_results\n"
     ]
    }
   ],
   "source": [
    "# Saving\n",
    "_path = SAVE_PATH + f\"{NUM_STEPS}steps_{DATA_SET_NAME}_{VEL_FIELD_TYPE}_end_results\"\n",
    "save_col(col, path=_path)"
   ]
  },
  {
   "cell_type": "markdown",
   "id": "f5f937d6-cfb3-40a2-bb4c-db24b2156028",
   "metadata": {},
   "source": [
    "## Analysis of Quantitative Results"
   ]
  },
  {
   "cell_type": "code",
   "execution_count": 84,
   "id": "bfb74f02-830c-4130-8e65-ecbe9bd81eb1",
   "metadata": {},
   "outputs": [
    {
     "name": "stdout",
     "output_type": "stream",
     "text": [
      "Loaded Collection from results/data/advection/MAE@step50/50steps_mnist_train_end_results.pkl\n"
     ]
    }
   ],
   "source": [
    "DATA_SET_NAME = \"mnist\"  # mnist, fashion\n",
    "VEL_FIELD_TYPE = \"train\" # train, vortex\n",
    "\n",
    "NUM_STEPS = 50\n",
    "_path = LOAD_PATH + f\"MAE@step50/{NUM_STEPS}steps_{DATA_SET_NAME}_{VEL_FIELD_TYPE}_end_results.pkl\"\n",
    "col = load_col(path=_path)"
   ]
  },
  {
   "cell_type": "code",
   "execution_count": 66,
   "id": "9eb32874-7e5c-46b9-9896-09eff9a53628",
   "metadata": {},
   "outputs": [
    {
     "data": {
      "text/plain": [
       "(10, 50)"
      ]
     },
     "execution_count": 66,
     "metadata": {},
     "output_type": "execute_result"
    }
   ],
   "source": [
    "NUM_SIMS = col(\"s_gt\").shape[0]\n",
    "NUM_SIMS, NUM_STEPS "
   ]
  },
  {
   "cell_type": "code",
   "execution_count": 67,
   "id": "6216dad3-8cd5-47ee-b716-4ed41dedb0ce",
   "metadata": {},
   "outputs": [],
   "source": [
    "# Computing errors\n",
    "no_rl_error_col = np.abs(col(\"s_no_rl\")-col(\"s_gt\"))\n",
    "no_rl_gt_error_col = np.abs(col(\"s_no_rl_gt\")-col(\"s_gt\"))\n",
    "rl_error_col = np.abs(col(\"s_rl\")-col(\"s_gt\"))"
   ]
  },
  {
   "cell_type": "code",
   "execution_count": 68,
   "id": "516de10d-7ed0-4308-b8f3-d456d7185064",
   "metadata": {},
   "outputs": [
    {
     "name": "stdout",
     "output_type": "stream",
     "text": [
      "Errors are scaled by $10^2$\n",
      "CGS: 3.2540 +- 1.1157 | (-0.00%) w.r.t. CGS\n",
      "ACGS: 2.0174 +- 0.7610 | (-38.00%) w.r.t. CGS\n",
      "CNN-MARL: 1.4889 +- 0.4876 | (-54.24%) w.r.t. CGS\n"
     ]
    },
    {
     "data": {
      "image/png": "[encoded data removed]",
      "text/plain": [
       "<Figure size 288x288 with 1 Axes>"
      ]
     },
     "metadata": {
      "needs_background": "light"
     },
     "output_type": "display_data"
    }
   ],
   "source": [
    "plt.figure(figsize=(4, 4)) \n",
    "categories = [\"CGS\",  \"ACGS\", \"CNN-MARL\"]\n",
    "values = [no_rl_error_col.mean(), no_rl_gt_error_col.mean(), rl_error_col.mean()]\n",
    "yerr = [no_rl_error_col.mean(axis=(1, 2)).std(), no_rl_gt_error_col.mean(axis=(1, 2)).std(), rl_error_col.mean(axis=(1, 2)).std()]\n",
    "colors = [method_color[cat] for cat in categories]\n",
    "plt.bar(categories, values, color=colors, yerr=yerr, width=0.5, capsize=10, log=False)\n",
    "plt.title(f\"MAE after {NUM_STEPS} time steps\")\n",
    "plt.ylabel(r\"$MAE(\\tilde \\psi, \\psi_{FGS})$\")\n",
    "plt.grid(True)\n",
    "\n",
    "no_rl_error = no_rl_error_col.mean()\n",
    "print(\"Errors are scaled by $10^2$\")\n",
    "for cat, value, std in zip(categories, values, yerr):\n",
    "    print(f\"{cat}: {100*value:.4f} +- {100*std:.4f} | (-{(no_rl_error - value)/no_rl_error:.2%}) w.r.t. CGS\")"
   ]
  },
  {
   "cell_type": "code",
   "execution_count": 69,
   "id": "0b1cadd5-9ab1-464d-a894-76ec3e12a5c0",
   "metadata": {},
   "outputs": [
    {
     "name": "stderr",
     "output_type": "stream",
     "text": [
      "/Users/jan-philippvonbassewitz/opt/anaconda3/lib/python3.7/site-packages/ipykernel/ipkernel.py:287: DeprecationWarning: `should_run_async` will not call `transform_cell` automatically in the future. Please pass the result to `transformed_cell` argument and any exception that happen during thetransform in `preprocessing_exc_tuple` in IPython 7.17 and above.\n",
      "  and should_run_async(code)\n"
     ]
    },
    {
     "data": {
      "text/plain": [
       "(10,)"
      ]
     },
     "execution_count": 69,
     "metadata": {},
     "output_type": "execute_result"
    }
   ],
   "source": [
    "col(\"mass_no_rl\").shape"
   ]
  },
  {
   "cell_type": "code",
   "execution_count": 72,
   "id": "84137fde-d7c1-4579-86a5-1a4b98f4aaf5",
   "metadata": {},
   "outputs": [
    {
     "name": "stdout",
     "output_type": "stream",
     "text": [
      "Errors are scaled by $10^2$\n",
      "CGS: 0.0080 +- 0.0067 | (-0.00%) w.r.t. CGS\n",
      "ACGS: 0.0010 +- 0.0011 | (-87.17%) w.r.t. CGS\n",
      "CNN-MARL: 0.0215 +- 0.0090 | (--167.56%) w.r.t. CGS\n"
     ]
    },
    {
     "name": "stderr",
     "output_type": "stream",
     "text": [
      "/Users/jan-philippvonbassewitz/opt/anaconda3/lib/python3.7/site-packages/ipykernel/ipkernel.py:287: DeprecationWarning: `should_run_async` will not call `transform_cell` automatically in the future. Please pass the result to `transformed_cell` argument and any exception that happen during thetransform in `preprocessing_exc_tuple` in IPython 7.17 and above.\n",
      "  and should_run_async(code)\n"
     ]
    },
    {
     "data": {
      "image/png": "[encoded data removed]",
      "text/plain": [
       "<Figure size 288x288 with 1 Axes>"
      ]
     },
     "metadata": {
      "needs_background": "light"
     },
     "output_type": "display_data"
    }
   ],
   "source": [
    "plt.figure(figsize=(4, 4)) \n",
    "categories = [\"CGS\",  \"ACGS\", \"CNN-MARL\"]\n",
    "values = [col(\"mass_no_rl\").mean(), col(\"mass_no_rl_gt\").mean(), col(\"mass_rl\").mean()]\n",
    "yerr = [col(\"mass_no_rl\").std(), col(\"mass_no_rl_gt\").std(), col(\"mass_rl\").std()]\n",
    "colors = [method_color[cat] for cat in categories]\n",
    "plt.bar(categories, values, color=colors, yerr=yerr, width=0.5, capsize=10, log=False)\n",
    "plt.title(f\"MAE after {NUM_STEPS} time steps\")\n",
    "plt.ylabel(\"Mass Conservation Error\")\n",
    "plt.grid(True)\n",
    "\n",
    "no_rl_error = col(\"mass_no_rl\").mean()\n",
    "print(\"Errors are scaled by $10^2$\")\n",
    "for cat, value, std in zip(categories, values, yerr):\n",
    "    print(f\"{cat}: {value:.4f} +- {std:.4f} | (-{(no_rl_error - value)/no_rl_error:.2%}) w.r.t. CGS\")"
   ]
  },
  {
   "cell_type": "markdown",
   "id": "249ef46e-9b17-48f1-926c-3e1d8e977a11",
   "metadata": {},
   "source": [
    "# Evolution of Metrics"
   ]
  },
  {
   "cell_type": "code",
   "execution_count": 11,
   "id": "81570387-ea39-4881-b776-7d467a8efdce",
   "metadata": {},
   "outputs": [],
   "source": [
    "def run_sim_and_collect_time_evolving_metrics(num_steps=100, do_plot=False, deterministic=True):\n",
    "\n",
    "    _col = Collector([\"err_rl\", \"err_no_rl\", \"err_no_rl_gt\",\n",
    "                      \"acts\", \"mass_rl\", \"mass_no_rl\", \"mass_no_rl_gt\"])\n",
    "    \n",
    "    _obs, _ = env.reset()\n",
    "    no_rl = deepcopy(env.state)\n",
    "    no_rl_gt = deepcopy(env.state)\n",
    "    \n",
    "    for i in range(num_steps):\n",
    "        if deterministic:\n",
    "            act_mean = actor.get_action_mean(_obs).detach().squeeze().cpu().numpy()\n",
    "        else:\n",
    "            act_mean = actor.sample_action(_obs).detach().squeeze().cpu().numpy()        \n",
    "        _col.add(\"acts\", act_mean)\n",
    "        \n",
    "        _obs, _, _, _, _ = env.step(np.expand_dims(act_mean, axis=0))\n",
    "        no_rl = env.upwind_scheme_2d_step(no_rl, env.dt, env.dx, env.dy, env.c_x, env.c_y)\n",
    "        no_rl_gt = env.rk4_step(no_rl_gt, env.dt, env.dx, env.dy, env.c_x, env.c_y, space_disc=\"second_order_upwind\")\n",
    "\n",
    "        # MAE domain error\n",
    "        rl_error = np.mean(np.abs(env.gt_state[::env.subsample, ::env.subsample] - env.state))\n",
    "        no_rl_error = np.mean(np.abs(env.gt_state[::env.subsample, ::env.subsample] - no_rl))\n",
    "        no_rl_gt_error = np.mean(np.abs(env.gt_state[::env.subsample, ::env.subsample] - no_rl_gt))\n",
    "        _col.add(\"err_rl\", rl_error)\n",
    "        _col.add(\"err_no_rl\", no_rl_error)\n",
    "        _col.add(\"err_no_rl_gt\", no_rl_gt_error)\n",
    "\n",
    "\n",
    "        # mass conservation error\n",
    "        mass_rl_err = np.mean(np.abs(env.compute_total_mass(env.state) - env.initial_mass))\n",
    "        mass_no_rl_err = np.mean(np.abs(env.compute_total_mass(no_rl) - env.initial_mass))\n",
    "        mass_no_rl_gt_err = np.mean(np.abs(env.compute_total_mass(no_rl_gt) - env.initial_mass))\n",
    "        _col.add(\"mass_rl\", mass_rl_err)\n",
    "        _col.add(\"mass_no_rl\", mass_no_rl_err)\n",
    "        _col.add(\"mass_no_rl_gt\", mass_no_rl_gt_err)\n",
    "\n",
    "        \n",
    "        if i % 50 == 0 and do_plot:\n",
    "            plot_n([no_rl, env.state, env.gt_state[::env.subsample, ::env.subsample]])\n",
    "    \n",
    "    _col.post_collection_processing()\n",
    "    return _col\n"
   ]
  },
  {
   "cell_type": "code",
   "execution_count": 73,
   "id": "3db68ab7-a743-4f3c-a0e5-48fbe318983a",
   "metadata": {},
   "outputs": [
    {
     "name": "stderr",
     "output_type": "stream",
     "text": [
      "/Users/jan-philippvonbassewitz/opt/anaconda3/lib/python3.7/site-packages/ipykernel/ipkernel.py:287: DeprecationWarning: `should_run_async` will not call `transform_cell` automatically in the future. Please pass the result to `transformed_cell` argument and any exception that happen during thetransform in `preprocessing_exc_tuple` in IPython 7.17 and above.\n",
      "  and should_run_async(code)\n",
      "100%|██████████| 10/10 [05:27<00:00, 32.73s/it]\n"
     ]
    }
   ],
   "source": [
    "NUM_STEPS = 400\n",
    "NUM_SIMS = 10\n",
    "\n",
    "col_2 = Collector([\"err_rl\", \"err_no_rl\", \"err_no_rl_gt\",\n",
    "                  \"mass_rl\", \"mass_no_rl\", \"mass_no_rl_gt\",\n",
    "                  \"acts\"])\n",
    "\n",
    "for sim in tqdm(range(NUM_SIMS)):\n",
    "    col = run_sim_and_collect_time_evolving_metrics(num_steps=NUM_STEPS)\n",
    "    col_2.load_collection(col)\n",
    "\n",
    "col_2.post_collection_processing()"
   ]
  },
  {
   "cell_type": "code",
   "execution_count": 29,
   "id": "ce64ecf6-444a-4579-8d08-d3cf1701ffe2",
   "metadata": {},
   "outputs": [],
   "source": [
    "# _path = SAVE_PATH + f\"{NUM_STEPS}steps_{NUM_SIMS}sims_{DATA_SET_NAME}_{VEL_FIELD_TYPE}_evolution.pkl\"\n",
    "# save_col(col_2, path=_path)"
   ]
  },
  {
   "cell_type": "markdown",
   "id": "768d3589-0569-405a-ab11-f264652c57dd",
   "metadata": {},
   "source": [
    "# Analysis"
   ]
  },
  {
   "cell_type": "code",
   "execution_count": null,
   "id": "2111e72e-e918-4a6e-971b-546634228471",
   "metadata": {},
   "outputs": [],
   "source": [
    "NUM_STEPS = 400\n",
    "NUM_SIMS = 100\n",
    "\n",
    "# _path = LOAD_PATH + f\"metric_evolution/{NUM_STEPS}steps_{NUM_SIMS}sims_mnist_train_evolution.pkl\"\n",
    "# col_2 = load_col(path=_path)"
   ]
  },
  {
   "cell_type": "code",
   "execution_count": 74,
   "id": "6a19c5ae-2faa-46e4-b833-94af6b824280",
   "metadata": {},
   "outputs": [],
   "source": [
    "SIM_LEN = col_2(\"err_rl\").shape[1]"
   ]
  },
  {
   "cell_type": "code",
   "execution_count": 75,
   "id": "8be39c06-90af-4f71-93d2-392bcfa2d0a9",
   "metadata": {},
   "outputs": [
    {
     "name": "stdout",
     "output_type": "stream",
     "text": [
      "\n",
      "Threshold: 0.01\n",
      "CNN-MARL: 28.2000 +- 15.1050 | (+147.37%)\n",
      "ACGS: 20.7000 +- 10.7615 | (+81.58%)\n",
      "CGS: 11.4000 +- 5.0239 | (+0.00%)\n"
     ]
    },
    {
     "data": {
      "image/png": "[encoded data removed]",
      "text/plain": [
       "<Figure size 288x252 with 1 Axes>"
      ]
     },
     "metadata": {
      "needs_background": "light"
     },
     "output_type": "display_data"
    }
   ],
   "source": [
    "threshold = 0.01\n",
    "categories = [\"err_rl\", \"err_no_rl_gt\", \"err_no_rl\"]\n",
    "\n",
    "# Collect raw data points for each category\n",
    "data_points = [np.argmax(col_2(cat) > threshold, axis=1) for cat in categories]\n",
    "\n",
    "plt.figure(figsize=FIG_SIZE) \n",
    "\n",
    "# Set labels and titles\n",
    "labels = [\"CNN-MARL\", \"ACGS\", \"CGS\"]\n",
    "colors = [method_color[cat] for cat in labels]\n",
    "\n",
    "# Create the violin plot\n",
    "violin_parts = plt.violinplot(data_points, showmeans=False, showmedians=True)\n",
    "\n",
    "# Apply colors to each violin\n",
    "for i, body in enumerate(violin_parts['bodies']):\n",
    "    body.set_color(colors[i])\n",
    "    body.set_alpha(1)\n",
    "\n",
    "violin_parts['cbars'].set_edgecolor('black') \n",
    "violin_parts['cmaxes'].set_edgecolor('black') \n",
    "violin_parts['cmins'].set_edgecolor('black') \n",
    "violin_parts['cmedians'].set_edgecolor('black') \n",
    "\n",
    "plt.yscale(\"log\")\n",
    "plt.gca().yaxis.set_major_formatter(ticker.ScalarFormatter())\n",
    "plt.xticks(ticks=[1, 2, 3], labels=labels)  # Adjust ticks to match the number of categories\n",
    "plt.ylim(top=100)\n",
    "plt.ylabel(\"Low MAE Steps\")\n",
    "plt.grid(True)\n",
    "\n",
    "values = [np.mean(low_mae_simlen) for low_mae_simlen in data_points]\n",
    "yerr = [np.std(low_mae_simlen) for low_mae_simlen in data_points]\n",
    "cgs_value = values[-1]\n",
    "print(f\"\\nThreshold: {threshold}\")\n",
    "for cat, value, std in zip(labels, values, yerr):\n",
    "    print(f\"{cat}: {value:.4f} +- {std:.4f} | (+{(value-cgs_value)/cgs_value:.2%})\")\n",
    "plt.tight_layout()\n",
    "plt.savefig(FIG_PATH + f'low_MAE_{threshold}_violin{SIM_LEN}steps_{NUM_SIMS}sims.pdf')"
   ]
  },
  {
   "cell_type": "code",
   "execution_count": 76,
   "id": "2d7e607a-16ed-4935-a18f-f2b956a2ec49",
   "metadata": {},
   "outputs": [
    {
     "data": {
      "image/png": "[encoded data removed]",
      "text/plain": [
       "<Figure size 288x252 with 1 Axes>"
      ]
     },
     "metadata": {
      "needs_background": "light"
     },
     "output_type": "display_data"
    }
   ],
   "source": [
    "max_n = min(200, NUM_STEPS)  # num_steps\n",
    "plt.figure(figsize=FIG_SIZE) \n",
    "plot_collection(range(max_n), 100*col_2(\"err_rl\")[:, :max_n], label=\"CNN-MARL\", color=method_color[\"CNN-MARL\"], log=False)\n",
    "plot_collection(range(max_n), 100*col_2(\"err_no_rl\")[:, :max_n], label=\"CGS\", color=method_color[\"CGS\"])\n",
    "plot_collection(range(max_n), 100*col_2(\"err_no_rl_gt\")[:, :max_n], label=\"ACGS\", color=method_color[\"ACGS\"])\n",
    "\n",
    "N_TRAIN_MAX = 100\n",
    "\n",
    "#plt.title(r\"Evolution of Error $MAE(\\tilde \\psi, \\psi_{FGS})$\")\n",
    "plt.xlabel(\"Step\")\n",
    "plt.ylabel(r\"Relative Error\")\n",
    "plt.yscale(\"log\")\n",
    "plt.ylim(top=10)\n",
    "ax = plt.gca()\n",
    "ax.yaxis.set_major_formatter(ticker.PercentFormatter())\n",
    "plt.axvspan(0, N_TRAIN_MAX, color='grey', alpha=0.1, label=\"Training regime\")\n",
    "#plt.legend(loc='lower right', edgecolor='black')\n",
    "plt.grid(True)\n",
    "plt.tight_layout()\n",
    "plt.savefig(FIG_PATH + f'relative_MAE_evol_{max_n}steps_{NUM_SIMS}sims.pdf')  # Saving as PDF"
   ]
  },
  {
   "cell_type": "code",
   "execution_count": 77,
   "id": "08eeed36-69cd-4e30-836f-c702f6e1442c",
   "metadata": {},
   "outputs": [
    {
     "data": {
      "image/png": "[encoded data removed]",
      "text/plain": [
       "<Figure size 288x252 with 1 Axes>"
      ]
     },
     "metadata": {
      "needs_background": "light"
     },
     "output_type": "display_data"
    }
   ],
   "source": [
    "max_n = NUM_STEPS  # num_steps\n",
    "plt.figure(figsize=FIG_SIZE) \n",
    "plot_collection_individuals(range(max_n), -100*(col_2(\"err_no_rl\")[:, :max_n]-col_2(\"err_rl\")[:, :max_n]) / col_2(\"err_no_rl\")[:, :max_n], label=\"CNN-MARL\", color=method_color[\"CNN-MARL\"], log=False, alpha=.05)\n",
    "plot_collection_individuals(range(max_n), -100*(col_2(\"err_no_rl\")[:, :max_n]-col_2(\"err_no_rl_gt\")[:, :max_n]) / col_2(\"err_no_rl\")[:, :max_n], label=\"ACGS\", color=method_color[\"ACGS\"], log=False, alpha=.05)\n",
    "plt.axvspan(0, N_TRAIN_MAX, color='grey', alpha=0.1, label=\"training regime\")\n",
    "\n",
    "ax = plt.gca()\n",
    "ax.yaxis.set_major_formatter(ticker.FuncFormatter(lambda x, pos: f\"{x} %\"))\n",
    "plt.grid(True)\n",
    "#plt.legend(loc='upper center', bbox_to_anchor=(0.5, 1.4), edgecolor='black')\n",
    "plt.tight_layout()\n",
    "plt.ylabel(\"Error Reduction\")\n",
    "plt.xlabel(\"Step\")\n",
    "plt.ylim(top=0)\n",
    "plt.tight_layout()\n",
    "plt.savefig(FIG_PATH + f'outperformance_evol_{max_n}steps_{NUM_SIMS}sims.pdf')  # Saving as PDF"
   ]
  },
  {
   "cell_type": "code",
   "execution_count": 78,
   "id": "635efecb-329a-4ab6-937c-78d8fa53d09c",
   "metadata": {},
   "outputs": [
    {
     "data": {
      "image/png": "[encoded data removed]",
      "text/plain": [
       "<Figure size 288x252 with 1 Axes>"
      ]
     },
     "metadata": {
      "needs_background": "light"
     },
     "output_type": "display_data"
    }
   ],
   "source": [
    "max_n = NUM_STEPS  # num_steps\n",
    "plt.figure(figsize=FIG_SIZE) \n",
    "plot_collection_individuals(range(max_n), col_2(\"mass_rl\"), label=\"CNN-MARL\", color=method_color[\"CNN-MARL\"], log=False, alpha=.05)\n",
    "plot_collection_individuals(range(max_n), col_2(\"mass_no_rl\"), label=\"CGS\", color=method_color[\"CGS\"], log=False, alpha=.05)\n",
    "plot_collection_individuals(range(max_n), col_2(\"mass_no_rl_gt\"), label=\"ACGS\", color=method_color[\"ACGS\"], log=False, alpha=.05)\n",
    "plt.axvspan(0, N_TRAIN_MAX, color='grey', alpha=0.1, label=\"training regime\")\n",
    "\n",
    "ax = plt.gca()\n",
    "plt.grid(True)\n",
    "#plt.legend(loc='upper center', bbox_to_anchor=(0.5, 1.4), edgecolor='black')\n",
    "plt.tight_layout()\n",
    "plt.ylabel(\"Mass error\")\n",
    "plt.xlabel(\"Step\")\n",
    "plt.tight_layout()\n",
    "plt.savefig(FIG_PATH + f'outperformance_evol_{max_n}steps_{NUM_SIMS}sims.pdf')  # Saving as PDF"
   ]
  },
  {
   "cell_type": "markdown",
   "id": "98df2969-443b-4cba-b5cf-d7c25628d062",
   "metadata": {},
   "source": [
    "# GIF Generation"
   ]
  },
  {
   "cell_type": "code",
   "execution_count": 66,
   "id": "2ac86d8b-ad39-426b-b333-b795ff96873d",
   "metadata": {},
   "outputs": [],
   "source": [
    "def run_sim_and_collect_states(num_steps=100, do_plot=False, deterministic=True):\n",
    "\n",
    "    _col = Collector([\"no_rl\", \"rl\", \"gt\"])\n",
    "    \n",
    "    _obs, _ = env.reset()\n",
    "    no_rl = deepcopy(env.state)\n",
    "    no_rl_gt = deepcopy(env.state)\n",
    "    \n",
    "    for i in range(num_steps):\n",
    "        _col.add(\"no_rl\", no_rl)\n",
    "        _col.add(\"rl\", env.state)\n",
    "        _col.add(\"gt\", no_rl_gt)\n",
    "        if deterministic:\n",
    "            act_mean = actor.get_action_mean(_obs).detach().squeeze().cpu().numpy()\n",
    "        else:\n",
    "            act_mean = actor.sample_action(_obs).detach().squeeze().cpu().numpy()        \n",
    "        \n",
    "        _obs, _, _, _, _ = env.step(np.expand_dims(act_mean, axis=0))\n",
    "        no_rl = env.upwind_scheme_2d_step(no_rl, env.dt, env.dx, env.dy, env.c_x, env.c_y)\n",
    "        no_rl_gt = env.rk4_step(no_rl_gt, env.dt, env.dx, env.dy, env.c_x, env.c_y, space_disc=\"second_order_upwind\")\n",
    "        \n",
    "        if i % 50 == 0 and do_plot:\n",
    "            plot_n([no_rl, env.state, env.gt_state[::env.subsample, ::env.subsample]])\n",
    "    \n",
    "    _col.post_collection_processing()\n",
    "    return _col\n"
   ]
  },
  {
   "cell_type": "code",
   "execution_count": 67,
   "id": "48960ed8-8359-4c63-90bd-26d6bca2f054",
   "metadata": {},
   "outputs": [
    {
     "data": {
      "image/png": "[encoded data removed]",
      "text/plain": [
       "<Figure size 700x500 with 3 Axes>"
      ]
     },
     "metadata": {},
     "output_type": "display_data"
    },
    {
     "data": {
      "image/png": "[encoded data removed]",
      "text/plain": [
       "<Figure size 700x500 with 3 Axes>"
      ]
     },
     "metadata": {},
     "output_type": "display_data"
    },
    {
     "data": {
      "image/png": "[encoded data removed]",
      "text/plain": [
       "<Figure size 700x500 with 3 Axes>"
      ]
     },
     "metadata": {},
     "output_type": "display_data"
    }
   ],
   "source": [
    "col = run_sim_and_collect_states(num_steps=150, do_plot=True)"
   ]
  },
  {
   "cell_type": "code",
   "execution_count": 68,
   "id": "b2989c6c-c398-4741-9f2e-6b7be9e13632",
   "metadata": {},
   "outputs": [],
   "source": [
    "import imageio\n",
    "\n",
    "def save_sim_to_gif(_col):\n",
    "    gif_path = \"gifs/\"\n",
    "    os.makedirs(os.path.dirname(gif_path), exist_ok=True)\n",
    "\n",
    "    for sim in _col.values.keys():\n",
    "        # convert from (0, 1) float to (0, 255) uint8\n",
    "        clipped_sim_frames = np.clip(col(sim) * 255, 0, 255)\n",
    "        clipped_sim_frames = clipped_sim_frames.astype(np.uint8)\n",
    "        imageio.mimsave(gif_path + f\"{sim}.gif\", clipped_sim_frames , format='GIF', fps=20)"
   ]
  },
  {
   "cell_type": "code",
   "execution_count": 69,
   "id": "856f6eed-6969-49d3-a3da-11946e72d64e",
   "metadata": {},
   "outputs": [],
   "source": [
    "save_sim_to_gif(col)"
   ]
  },
  {
   "cell_type": "markdown",
   "id": "73839271-f98a-4542-aed0-9a89360cb923",
   "metadata": {},
   "source": [
    "# Speed Tests"
   ]
  },
  {
   "cell_type": "code",
   "execution_count": 71,
   "id": "18d91c65-74ca-46e8-ba9d-9fb865ce9410",
   "metadata": {},
   "outputs": [
    {
     "name": "stderr",
     "output_type": "stream",
     "text": [
      "100%|█████████████████████████████████████████████████████████████████████████████████████████████████████████████████████████████████████████████████████████████████████████████████████████████████████████████████████████████████████████████████████████████████████████████████| 100/100 [00:27<00:00,  3.64it/s]\n"
     ]
    }
   ],
   "source": [
    "from time import time\n",
    "\n",
    "NUM_SAMPLES = 100\n",
    "\n",
    "time_col = Collector([\"CGS\", \"CNN-MARL\", \"ACGS\", \"FGS\"])\n",
    "\n",
    "for _ in tqdm(range(NUM_SAMPLES)):\n",
    "    obs, _ = env.reset()\n",
    "    no_rl_gt = env.state\n",
    "\n",
    "    # FGS\n",
    "    begin = time()\n",
    "    for _ in range(env.subsample):\n",
    "        env.gt_state = env.rk4_step(env.gt_state, env.dns_dt, env.dns_dx, env.dns_dy,\n",
    "                                               env.c_x_dns, env.c_y_dns)\n",
    "    fgs_time = time() - begin\n",
    "    time_col.add(\"FGS\", fgs_time)\n",
    "\n",
    "    # CGS\n",
    "    begin = time()\n",
    "    env.upwind_scheme_2d_step(env.state, env.dt, env.dx, env.dy, env.c_x, env.c_y)\n",
    "    cgs_time = time() - begin\n",
    "    time_col.add(\"CGS\", cgs_time)\n",
    "\n",
    "    # ACGS\n",
    "    begin = time()\n",
    "    env.rk4_step(no_rl_gt, env.dt, env.dx, env.dy, env.c_x, env.c_y, space_disc=\"second_order_upwind\")\n",
    "    acgs_time = time() - begin\n",
    "    time_col.add(\"ACGS\", acgs_time)\n",
    "    \n",
    "    # CNN-MARL\n",
    "    begin = time()\n",
    "    action = actor.get_action_mean(obs).detach().squeeze().cpu().numpy().clip(-1, 1)\n",
    "    env.rl_adjusted_state = np.clip(env.state - action, env.observation_space.low, env.observation_space.high)\n",
    "    env.upwind_scheme_2d_step(env.rl_adjusted_state, env.dt, env.dx, env.dy, env.c_x, env.c_y)\n",
    "    cnn_marl_time = time() - begin\n",
    "    time_col.add(\"CNN-MARL\", cnn_marl_time)\n",
    "\n",
    "time_col.post_collection_processing()"
   ]
  },
  {
   "cell_type": "code",
   "execution_count": 72,
   "id": "4b04a9c9-1dee-45e0-b0fa-d6e4c8052a3c",
   "metadata": {},
   "outputs": [
    {
     "name": "stdout",
     "output_type": "stream",
     "text": [
      "FGS: 117.30 +- 2.02 ms\n",
      "CNN-MARL: 2.71 +- 0.07 ms\n",
      "ACGS: 1.26 +- 0.03 ms\n",
      "CGS: 0.41 +- 0.02 ms\n",
      "\n",
      " CGS step time improvement of -99.65% w.r.t. FGS\n",
      "ACGS step time improvement of -98.93% w.r.t. FGS\n",
      "CNN-MARL step time improvement of -97.69% w.r.t. FGS\n"
     ]
    },
    {
     "data": {
      "image/png": "[encoded data removed]",
      "text/plain": [
       "<Figure size 500x400 with 1 Axes>"
      ]
     },
     "metadata": {},
     "output_type": "display_data"
    }
   ],
   "source": [
    "plt.figure(figsize=(5, 4)) \n",
    "\n",
    "categories = [\"FGS\", \"CNN-MARL\", \"ACGS\", \"CGS\"]\n",
    "values = [time_col(cat).mean() for cat in categories]\n",
    "yerr = [time_col(cat).std() for cat in categories]\n",
    "colors = [method_color[cat] for cat in categories]\n",
    "plt.bar(categories, values, color=colors, yerr=yerr, width=0.5, capsize=10, log=False)\n",
    "plt.grid(True)\n",
    "plt.tight_layout()\n",
    "plt.yscale(\"log\")\n",
    "\n",
    "for cat, value, std in zip(categories, values, yerr):\n",
    "    print(f\"{cat}: {1000 * value:.2f} +- {100 * std:.2f} ms\")\n",
    "\n",
    "cgs_time = time_col(\"CGS\").mean()\n",
    "acgs_time = time_col(\"ACGS\").mean()\n",
    "fgs_time = time_col(\"FGS\").mean()\n",
    "cnn_marl_time = time_col(\"CNN-MARL\").mean()\n",
    "\n",
    "print(f\"\\n CGS step time improvement of -{(fgs_time-cgs_time) / fgs_time :.2%} w.r.t. FGS\")\n",
    "print(f\"ACGS step time improvement of -{(fgs_time-acgs_time) / fgs_time :.2%} w.r.t. FGS\")\n",
    "print(f\"CNN-MARL step time improvement of -{(fgs_time-cnn_marl_time) / fgs_time :.2%} w.r.t. FGS\")"
   ]
  },
  {
   "cell_type": "code",
   "execution_count": null,
   "id": "3504dbdd-6f91-48f2-9919-d8e1d2193758",
   "metadata": {},
   "outputs": [],
   "source": []
  },
  {
   "cell_type": "code",
   "execution_count": null,
   "id": "a632af22-b32c-4d0d-846d-846292aaab45",
   "metadata": {},
   "outputs": [],
   "source": []
  }
 ],
 "metadata": {
  "kernelspec": {
   "display_name": "Python 3",
   "language": "python",
   "name": "python3"
  },
  "language_info": {
   "codemirror_mode": {
    "name": "ipython",
    "version": 3
   },
   "file_extension": ".py",
   "mimetype": "text/x-python",
   "name": "python",
   "nbconvert_exporter": "python",
   "pygments_lexer": "ipython3",
   "version": "3.7.4"
  }
 },
 "nbformat": 4,
 "nbformat_minor": 5
}
